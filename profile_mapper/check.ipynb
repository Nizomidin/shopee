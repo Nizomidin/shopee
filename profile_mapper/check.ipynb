{
 "cells": [
  {
   "cell_type": "code",
   "execution_count": 1,
   "id": "1ecacab6",
   "metadata": {},
   "outputs": [],
   "source": [
    "import os\n",
    "import json\n",
    "from collections import defaultdict"
   ]
  },
  {
   "cell_type": "code",
   "execution_count": 5,
   "id": "4fb08dbb",
   "metadata": {},
   "outputs": [
    {
     "data": {
      "text/plain": [
       "1343"
      ]
     },
     "execution_count": 5,
     "metadata": {},
     "output_type": "execute_result"
    }
   ],
   "source": [
    "fingerprints = os.listdir(\"./fingerprints\")\n",
    "len(fingerprints)\n"
   ]
  },
  {
   "cell_type": "code",
   "execution_count": 6,
   "id": "a7adb5ab",
   "metadata": {},
   "outputs": [],
   "source": [
    "fingerprint = json.loads(open(\"./fingerprints/\" + fingerprints[0]).read())"
   ]
  },
  {
   "cell_type": "code",
   "execution_count": 16,
   "id": "0848cdde",
   "metadata": {},
   "outputs": [
    {
     "name": "stdout",
     "output_type": "stream",
     "text": [
      "{'10', 'Mac', 'Ventura', 'Mojave', 'Catalina', 'Monterey', 'Big'}\n"
     ]
    }
   ],
   "source": [
    "unique_platform_versions = set()\n",
    "\n",
    "for file_name in fingerprints:\n",
    "    file_path = f\"./fingerprints/{file_name}\"\n",
    "    with open(file_path, 'r') as file:\n",
    "        data = json.load(file)\n",
    "        platform_version = data['navigator']['userAgentData']['platformVersion']\n",
    "        unique_platform_versions.add(platform_version)\n",
    "\n",
    "print(unique_platform_versions)"
   ]
  },
  {
   "cell_type": "code",
   "execution_count": null,
   "id": "3850d00a",
   "metadata": {},
   "outputs": [],
   "source": [
    "OS_TO_FINGERPRINTS = defaultdict(list)\n",
    "\n",
    "for file_name in fingerprints:\n",
    "    file_path = f\"./fingerprints/{file_name}\"\n",
    "    with open(file_path, 'r') as file:\n",
    "        data = json.load(file)\n",
    "        platform_version = data['navigator']['userAgentData']['platformVersion']\n",
    "        OS_TO_FINGERPRINTS[platform_version].append(data)"
   ]
  },
  {
   "cell_type": "code",
   "execution_count": 16,
   "id": "8d541e83",
   "metadata": {},
   "outputs": [
    {
     "data": {
      "text/plain": [
       "10"
      ]
     },
     "execution_count": 16,
     "metadata": {},
     "output_type": "execute_result"
    }
   ],
   "source": [
    "# read proxy list from proxy_list.txt, split by new line\n",
    "# collect the proxy as object with the following attributes:\n",
    "# <host>:<port>:<username>:<password>\n",
    "PROXY_LIST = []\n",
    "with open(\"proxy_list.txt\", 'r') as file:\n",
    "    for line in file:\n",
    "        line = line.strip()\n",
    "        if line:\n",
    "            parts = line.split(':')\n",
    "            if len(parts) == 4:\n",
    "                host, port, username, password = parts\n",
    "                PROXY_LIST.append({\n",
    "                    'host': host,\n",
    "                    'port': int(port),\n",
    "                    'username': username,\n",
    "                    'password': password\n",
    "                })\n",
    "len(PROXY_LIST)"
   ]
  },
  {
   "cell_type": "code",
   "execution_count": 2,
   "id": "ba45e028",
   "metadata": {},
   "outputs": [],
   "source": [
    "import boto3\n",
    "\n",
    "AWS_ACCESS_KEY_ID = os.getenv('AWS_ACCESS_KEY_ID')\n",
    "AWS_SECRET_ACCESS_KEY = os.getenv('AWS_SECRET_ACCESS_KEY')\n",
    "AWS_REGION = os.getenv('AWS_REGION')\n",
    "AWS_DATA_BUCKET = os.getenv('AWS_DATA_BUCKET')\n",
    "\n",
    "s3_client = boto3.client(\n",
    "    's3',\n",
    "    region_name=AWS_REGION,\n",
    "    aws_access_key_id=AWS_ACCESS_KEY_ID,\n",
    "    aws_secret_access_key=AWS_SECRET_ACCESS_KEY\n",
    ")"
   ]
  },
  {
   "cell_type": "code",
   "execution_count": 4,
   "id": "340dc93d",
   "metadata": {},
   "outputs": [],
   "source": [
    "s3_key = 'results/33562_29757872411/2025-04-29T16:32:05.341Z.json'\n",
    "response = s3_client.get_object(Bucket=AWS_DATA_BUCKET, Key=s3_key)\n",
    "content = response['Body'].read()\n",
    "data = json.loads(content)"
   ]
  },
  {
   "cell_type": "code",
   "execution_count": 9,
   "id": "4aab2f12",
   "metadata": {},
   "outputs": [
    {
     "data": {
      "text/plain": [
       "'咖啡球 AGF Blendy 日本原裝 咖啡球 濃縮液 濃縮咖啡膠囊球 咖啡 速冲咖啡 6入'"
      ]
     },
     "execution_count": 9,
     "metadata": {},
     "output_type": "execute_result"
    }
   ],
   "source": [
    "data['item']['title']"
   ]
  },
  {
   "cell_type": "code",
   "execution_count": null,
   "id": "4bc6431b",
   "metadata": {},
   "outputs": [
    {
     "data": {
      "text/plain": [
       "100824"
      ]
     },
     "execution_count": 13,
     "metadata": {},
     "output_type": "execute_result"
    }
   ],
   "source": [
    "category_id = data['item']['categories'][-1]['catid']"
   ]
  },
  {
   "cell_type": "code",
   "execution_count": 15,
   "id": "0144c098",
   "metadata": {},
   "outputs": [
    {
     "data": {
      "text/plain": [
       "(33562, 29757872411)"
      ]
     },
     "execution_count": 15,
     "metadata": {},
     "output_type": "execute_result"
    }
   ],
   "source": [
    "data['item']['shop_id'], data['item']['item_id']"
   ]
  },
  {
   "cell_type": "code",
   "execution_count": 17,
   "id": "eaeac319",
   "metadata": {},
   "outputs": [
    {
     "name": "stdout",
     "output_type": "stream",
     "text": [
      "Timestamp: 2025-04-29 22:27:48.510510, Value: 3\n",
      "Timestamp: 2025-04-29 22:27:52.508266, Value: 1\n",
      "Timestamp: 2025-04-29 22:27:53.509952, Value: 2\n"
     ]
    }
   ],
   "source": [
    "import heapq\n",
    "from datetime import datetime, timedelta\n",
    "import time\n",
    "\n",
    "heap = []\n",
    "heapq.heappush(heap, (datetime.now(), 1))\n",
    "time.sleep(1)\n",
    "heapq.heappush(heap, (datetime.now(), 2))\n",
    "# add time with 5 seconds ago\n",
    "heapq.heappush(heap, (datetime.now() - timedelta(seconds=5), 3))\n",
    "\n",
    "# pop the smallest element\n",
    "while heap:\n",
    "    timestamp, value = heapq.heappop(heap)\n",
    "    print(f\"Timestamp: {timestamp}, Value: {value}\")\n",
    "    # do something with the value\n",
    "    # for example, you can add it to a list or process it\n",
    "    # process(value)"
   ]
  }
 ],
 "metadata": {
  "kernelspec": {
   "display_name": "MrScraper",
   "language": "python",
   "name": "mrscraper"
  },
  "language_info": {
   "codemirror_mode": {
    "name": "ipython",
    "version": 3
   },
   "file_extension": ".py",
   "mimetype": "text/x-python",
   "name": "python",
   "nbconvert_exporter": "python",
   "pygments_lexer": "ipython3",
   "version": "3.11.11"
  }
 },
 "nbformat": 4,
 "nbformat_minor": 5
}
